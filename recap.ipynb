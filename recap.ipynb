{
 "cells": [
  {
   "cell_type": "code",
   "execution_count": 8,
   "id": "fc3e710d",
   "metadata": {},
   "outputs": [],
   "source": [
    "import numpy as np\n",
    "import pandas as pd\n",
    "import ROOT as r\n",
    "import os \n",
    "import sys\n",
    "import time\n",
    "import uproot \n",
    "import awkward_pandas"
   ]
  },
  {
   "cell_type": "code",
   "execution_count": 30,
   "id": "c96b12b9",
   "metadata": {},
   "outputs": [],
   "source": [
    "import array as arr"
   ]
  },
  {
   "cell_type": "code",
   "execution_count": 32,
   "id": "b237516a",
   "metadata": {},
   "outputs": [],
   "source": [
    "import awkward as ak"
   ]
  },
  {
   "cell_type": "code",
   "execution_count": 2,
   "id": "cb396521",
   "metadata": {},
   "outputs": [],
   "source": [
    "from constant import uprootInputs\n"
   ]
  },
  {
   "cell_type": "code",
   "execution_count": 3,
   "id": "d74efc63",
   "metadata": {},
   "outputs": [],
   "source": [
    "r.gROOT.SetBatch(1)"
   ]
  },
  {
   "cell_type": "code",
   "execution_count": 9,
   "id": "f23c480d",
   "metadata": {},
   "outputs": [],
   "source": [
    "filename1 = 'MilliQan_Run1202.237_v34.root'\n",
    "fin = uproot.open(filename1)\n",
    "tree = fin['t']\n",
    "myarray = tree.arrays(uprootInputs,library='pd')"
   ]
  },
  {
   "cell_type": "code",
   "execution_count": 10,
   "id": "34463673",
   "metadata": {},
   "outputs": [
    {
     "data": {
      "text/plain": [
       "0        0\n",
       "1        1\n",
       "2        2\n",
       "3        3\n",
       "4        4\n",
       "      ... \n",
       "995    995\n",
       "996    996\n",
       "997    997\n",
       "998    998\n",
       "999    999\n",
       "Name: event, Length: 1000, dtype: int32"
      ]
     },
     "execution_count": 10,
     "metadata": {},
     "output_type": "execute_result"
    }
   ],
   "source": [
    "myarray[\"event\"]"
   ]
  },
  {
   "cell_type": "code",
   "execution_count": 25,
   "id": "cca292f9",
   "metadata": {},
   "outputs": [
    {
     "data": {
      "text/plain": [
       "0      [True, True, True, True, False, True, True, Tr...\n",
       "1                [True, True, False, True, False, False]\n",
       "2                                          [True, False]\n",
       "3      [True, True, True, True, True, False, True, Tr...\n",
       "4      [True, True, True, True, False, True, False, T...\n",
       "                             ...                        \n",
       "995                                 [True, False, False]\n",
       "996    [True, False, True, False, True, True, True, F...\n",
       "997    [True, True, True, True, True, True, True, Fal...\n",
       "998                                              [False]\n",
       "999    [False, False, True, True, True, False, True, ...\n",
       "Name: pickupFlag, Length: 1000, dtype: awkward"
      ]
     },
     "execution_count": 25,
     "metadata": {},
     "output_type": "execute_result"
    }
   ],
   "source": [
    "myarray[\"pickupFlag\"]== False"
   ]
  },
  {
   "cell_type": "code",
   "execution_count": 24,
   "id": "88eab387",
   "metadata": {},
   "outputs": [
    {
     "ename": "ValueError",
     "evalue": "cannot convert to RegularArray because subarray lengths are not regular (in compiled code: https://github.com/scikit-hep/awkward/blob/awkward-cpp-28/awkward-cpp/src/cpu-kernels/awkward_ListOffsetArray_toRegularArray.cpp#L22)\n\nThis error occurred while calling\n\n    numpy.asarray(\n        <Array [[True, True, ..., True, False], ...] type='1000 * var * bool'>\n        dtype = dtype[bool_]-instance\n    )",
     "output_type": "error",
     "traceback": [
      "\u001b[0;31m---------------------------------------------------------------------------\u001b[0m",
      "\u001b[0;31mValueError\u001b[0m                                Traceback (most recent call last)",
      "File \u001b[0;32m~/.local/lib/python3.8/site-packages/awkward/highlevel.py:1434\u001b[0m, in \u001b[0;36mArray.__array__\u001b[0;34m(self, dtype)\u001b[0m\n\u001b[1;32m   1432\u001b[0m \u001b[38;5;28;01mfrom\u001b[39;00m \u001b[38;5;21;01mawkward\u001b[39;00m\u001b[38;5;21;01m.\u001b[39;00m\u001b[38;5;21;01m_connect\u001b[39;00m\u001b[38;5;21;01m.\u001b[39;00m\u001b[38;5;21;01mnumpy\u001b[39;00m \u001b[38;5;28;01mimport\u001b[39;00m convert_to_array\n\u001b[0;32m-> 1434\u001b[0m \u001b[38;5;28;01mreturn\u001b[39;00m \u001b[43mconvert_to_array\u001b[49m\u001b[43m(\u001b[49m\u001b[38;5;28;43mself\u001b[39;49m\u001b[38;5;241;43m.\u001b[39;49m\u001b[43m_layout\u001b[49m\u001b[43m,\u001b[49m\u001b[43m \u001b[49m\u001b[43mdtype\u001b[49m\u001b[38;5;241;43m=\u001b[39;49m\u001b[43mdtype\u001b[49m\u001b[43m)\u001b[49m\n",
      "File \u001b[0;32m~/.local/lib/python3.8/site-packages/awkward/_connect/numpy.py:473\u001b[0m, in \u001b[0;36mconvert_to_array\u001b[0;34m(layout, dtype)\u001b[0m\n\u001b[1;32m    472\u001b[0m \u001b[38;5;28;01mdef\u001b[39;00m \u001b[38;5;21mconvert_to_array\u001b[39m(layout, dtype\u001b[38;5;241m=\u001b[39m\u001b[38;5;28;01mNone\u001b[39;00m):\n\u001b[0;32m--> 473\u001b[0m     out \u001b[38;5;241m=\u001b[39m \u001b[43mak\u001b[49m\u001b[38;5;241;43m.\u001b[39;49m\u001b[43moperations\u001b[49m\u001b[38;5;241;43m.\u001b[39;49m\u001b[43mto_numpy\u001b[49m\u001b[43m(\u001b[49m\u001b[43mlayout\u001b[49m\u001b[43m,\u001b[49m\u001b[43m \u001b[49m\u001b[43mallow_missing\u001b[49m\u001b[38;5;241;43m=\u001b[39;49m\u001b[38;5;28;43;01mFalse\u001b[39;49;00m\u001b[43m)\u001b[49m\n\u001b[1;32m    474\u001b[0m     \u001b[38;5;28;01mif\u001b[39;00m dtype \u001b[38;5;129;01mis\u001b[39;00m \u001b[38;5;28;01mNone\u001b[39;00m:\n",
      "File \u001b[0;32m~/.local/lib/python3.8/site-packages/awkward/_dispatch.py:62\u001b[0m, in \u001b[0;36mnamed_high_level_function.<locals>.dispatch\u001b[0;34m(*args, **kwargs)\u001b[0m\n\u001b[1;32m     61\u001b[0m \u001b[38;5;28;01mtry\u001b[39;00m:\n\u001b[0;32m---> 62\u001b[0m     \u001b[38;5;28;43mnext\u001b[39;49m\u001b[43m(\u001b[49m\u001b[43mgen_or_result\u001b[49m\u001b[43m)\u001b[49m\n\u001b[1;32m     63\u001b[0m \u001b[38;5;28;01mexcept\u001b[39;00m \u001b[38;5;167;01mStopIteration\u001b[39;00m \u001b[38;5;28;01mas\u001b[39;00m err:\n",
      "File \u001b[0;32m~/.local/lib/python3.8/site-packages/awkward/operations/ak_to_numpy.py:48\u001b[0m, in \u001b[0;36mto_numpy\u001b[0;34m(array, allow_missing)\u001b[0m\n\u001b[1;32m     47\u001b[0m \u001b[38;5;66;03m# Implementation\u001b[39;00m\n\u001b[0;32m---> 48\u001b[0m \u001b[38;5;28;01mreturn\u001b[39;00m \u001b[43m_impl\u001b[49m\u001b[43m(\u001b[49m\u001b[43marray\u001b[49m\u001b[43m,\u001b[49m\u001b[43m \u001b[49m\u001b[43mallow_missing\u001b[49m\u001b[43m)\u001b[49m\n",
      "File \u001b[0;32m~/.local/lib/python3.8/site-packages/awkward/operations/ak_to_numpy.py:60\u001b[0m, in \u001b[0;36m_impl\u001b[0;34m(array, allow_missing)\u001b[0m\n\u001b[1;32m     58\u001b[0m numpy_layout \u001b[38;5;241m=\u001b[39m layout\u001b[38;5;241m.\u001b[39mto_backend(backend)\n\u001b[0;32m---> 60\u001b[0m \u001b[38;5;28;01mreturn\u001b[39;00m \u001b[43mnumpy_layout\u001b[49m\u001b[38;5;241;43m.\u001b[39;49m\u001b[43mto_backend_array\u001b[49m\u001b[43m(\u001b[49m\u001b[43mallow_missing\u001b[49m\u001b[38;5;241;43m=\u001b[39;49m\u001b[43mallow_missing\u001b[49m\u001b[43m)\u001b[49m\n",
      "File \u001b[0;32m~/.local/lib/python3.8/site-packages/awkward/contents/content.py:1021\u001b[0m, in \u001b[0;36mContent.to_backend_array\u001b[0;34m(self, allow_missing, backend)\u001b[0m\n\u001b[1;32m   1020\u001b[0m     backend \u001b[38;5;241m=\u001b[39m regularize_backend(backend)\n\u001b[0;32m-> 1021\u001b[0m \u001b[38;5;28;01mreturn\u001b[39;00m \u001b[38;5;28;43mself\u001b[39;49m\u001b[38;5;241;43m.\u001b[39;49m\u001b[43m_to_backend_array\u001b[49m\u001b[43m(\u001b[49m\u001b[43mallow_missing\u001b[49m\u001b[43m,\u001b[49m\u001b[43m \u001b[49m\u001b[43mbackend\u001b[49m\u001b[43m)\u001b[49m\n",
      "File \u001b[0;32m~/.local/lib/python3.8/site-packages/awkward/contents/listoffsetarray.py:2078\u001b[0m, in \u001b[0;36mListOffsetArray._to_backend_array\u001b[0;34m(self, allow_missing, backend)\u001b[0m\n\u001b[1;32m   2077\u001b[0m \u001b[38;5;28;01melse\u001b[39;00m:\n\u001b[0;32m-> 2078\u001b[0m     \u001b[38;5;28;01mreturn\u001b[39;00m \u001b[38;5;28;43mself\u001b[39;49m\u001b[38;5;241;43m.\u001b[39;49m\u001b[43mto_RegularArray\u001b[49m\u001b[43m(\u001b[49m\u001b[43m)\u001b[49m\u001b[38;5;241m.\u001b[39m_to_backend_array(allow_missing, backend)\n",
      "File \u001b[0;32m~/.local/lib/python3.8/site-packages/awkward/contents/listoffsetarray.py:288\u001b[0m, in \u001b[0;36mListOffsetArray.to_RegularArray\u001b[0;34m(self)\u001b[0m\n\u001b[1;32m    284\u001b[0m \u001b[38;5;28;01massert\u001b[39;00m (\n\u001b[1;32m    285\u001b[0m     _size\u001b[38;5;241m.\u001b[39mnplike \u001b[38;5;129;01mis\u001b[39;00m \u001b[38;5;28mself\u001b[39m\u001b[38;5;241m.\u001b[39m_backend\u001b[38;5;241m.\u001b[39mindex_nplike\n\u001b[1;32m    286\u001b[0m     \u001b[38;5;129;01mand\u001b[39;00m \u001b[38;5;28mself\u001b[39m\u001b[38;5;241m.\u001b[39m_offsets\u001b[38;5;241m.\u001b[39mnplike \u001b[38;5;129;01mis\u001b[39;00m \u001b[38;5;28mself\u001b[39m\u001b[38;5;241m.\u001b[39m_backend\u001b[38;5;241m.\u001b[39mindex_nplike\n\u001b[1;32m    287\u001b[0m )\n\u001b[0;32m--> 288\u001b[0m \u001b[38;5;28;43mself\u001b[39;49m\u001b[38;5;241;43m.\u001b[39;49m\u001b[43m_backend\u001b[49m\u001b[38;5;241;43m.\u001b[39;49m\u001b[43mmaybe_kernel_error\u001b[49m\u001b[43m(\u001b[49m\n\u001b[1;32m    289\u001b[0m \u001b[43m    \u001b[49m\u001b[38;5;28;43mself\u001b[39;49m\u001b[38;5;241;43m.\u001b[39;49m\u001b[43m_backend\u001b[49m\u001b[43m[\u001b[49m\n\u001b[1;32m    290\u001b[0m \u001b[43m        \u001b[49m\u001b[38;5;124;43m\"\u001b[39;49m\u001b[38;5;124;43mawkward_ListOffsetArray_toRegularArray\u001b[39;49m\u001b[38;5;124;43m\"\u001b[39;49m\u001b[43m,\u001b[49m\n\u001b[1;32m    291\u001b[0m \u001b[43m        \u001b[49m\u001b[43m_size\u001b[49m\u001b[38;5;241;43m.\u001b[39;49m\u001b[43mdtype\u001b[49m\u001b[38;5;241;43m.\u001b[39;49m\u001b[43mtype\u001b[49m\u001b[43m,\u001b[49m\n\u001b[1;32m    292\u001b[0m \u001b[43m        \u001b[49m\u001b[38;5;28;43mself\u001b[39;49m\u001b[38;5;241;43m.\u001b[39;49m\u001b[43m_offsets\u001b[49m\u001b[38;5;241;43m.\u001b[39;49m\u001b[43mdtype\u001b[49m\u001b[38;5;241;43m.\u001b[39;49m\u001b[43mtype\u001b[49m\u001b[43m,\u001b[49m\n\u001b[1;32m    293\u001b[0m \u001b[43m    \u001b[49m\u001b[43m]\u001b[49m\u001b[43m(\u001b[49m\n\u001b[1;32m    294\u001b[0m \u001b[43m        \u001b[49m\u001b[43m_size\u001b[49m\u001b[38;5;241;43m.\u001b[39;49m\u001b[43mdata\u001b[49m\u001b[43m,\u001b[49m\n\u001b[1;32m    295\u001b[0m \u001b[43m        \u001b[49m\u001b[38;5;28;43mself\u001b[39;49m\u001b[38;5;241;43m.\u001b[39;49m\u001b[43m_offsets\u001b[49m\u001b[38;5;241;43m.\u001b[39;49m\u001b[43mdata\u001b[49m\u001b[43m,\u001b[49m\n\u001b[1;32m    296\u001b[0m \u001b[43m        \u001b[49m\u001b[38;5;28;43mself\u001b[39;49m\u001b[38;5;241;43m.\u001b[39;49m\u001b[43m_offsets\u001b[49m\u001b[38;5;241;43m.\u001b[39;49m\u001b[43mlength\u001b[49m\u001b[43m,\u001b[49m\n\u001b[1;32m    297\u001b[0m \u001b[43m    \u001b[49m\u001b[43m)\u001b[49m\n\u001b[1;32m    298\u001b[0m \u001b[43m\u001b[49m\u001b[43m)\u001b[49m\n\u001b[1;32m    299\u001b[0m size \u001b[38;5;241m=\u001b[39m \u001b[38;5;28mself\u001b[39m\u001b[38;5;241m.\u001b[39m_backend\u001b[38;5;241m.\u001b[39mindex_nplike\u001b[38;5;241m.\u001b[39mindex_as_shape_item(_size[\u001b[38;5;241m0\u001b[39m])\n",
      "File \u001b[0;32m~/.local/lib/python3.8/site-packages/awkward/_backends/backend.py:67\u001b[0m, in \u001b[0;36mBackend.maybe_kernel_error\u001b[0;34m(self, error)\u001b[0m\n\u001b[1;32m     66\u001b[0m \u001b[38;5;28;01melse\u001b[39;00m:\n\u001b[0;32m---> 67\u001b[0m     \u001b[38;5;28;01mraise\u001b[39;00m \u001b[38;5;167;01mValueError\u001b[39;00m(\u001b[38;5;28mself\u001b[39m\u001b[38;5;241m.\u001b[39mformat_kernel_error(error))\n",
      "\u001b[0;31mValueError\u001b[0m: cannot convert to RegularArray because subarray lengths are not regular (in compiled code: https://github.com/scikit-hep/awkward/blob/awkward-cpp-28/awkward-cpp/src/cpu-kernels/awkward_ListOffsetArray_toRegularArray.cpp#L22)",
      "\nThe above exception was the direct cause of the following exception:\n",
      "\u001b[0;31mValueError\u001b[0m                                Traceback (most recent call last)",
      "Input \u001b[0;32mIn [24]\u001b[0m, in \u001b[0;36m<cell line: 1>\u001b[0;34m()\u001b[0m\n\u001b[0;32m----> 1\u001b[0m \u001b[43mmyarray\u001b[49m\u001b[43m[\u001b[49m\u001b[43mmyarray\u001b[49m\u001b[43m[\u001b[49m\u001b[38;5;124;43m\"\u001b[39;49m\u001b[38;5;124;43mpickupFlag\u001b[39;49m\u001b[38;5;124;43m\"\u001b[39;49m\u001b[43m]\u001b[49m\u001b[38;5;241;43m==\u001b[39;49m\u001b[43m \u001b[49m\u001b[38;5;28;43;01mFalse\u001b[39;49;00m\u001b[43m]\u001b[49m\n",
      "File \u001b[0;32m/usr/local/lib/python3.8/dist-packages/pandas/core/frame.py:3496\u001b[0m, in \u001b[0;36mDataFrame.__getitem__\u001b[0;34m(self, key)\u001b[0m\n\u001b[1;32m   3494\u001b[0m \u001b[38;5;66;03m# Do we have a (boolean) 1d indexer?\u001b[39;00m\n\u001b[1;32m   3495\u001b[0m \u001b[38;5;28;01mif\u001b[39;00m com\u001b[38;5;241m.\u001b[39mis_bool_indexer(key):\n\u001b[0;32m-> 3496\u001b[0m     \u001b[38;5;28;01mreturn\u001b[39;00m \u001b[38;5;28;43mself\u001b[39;49m\u001b[38;5;241;43m.\u001b[39;49m\u001b[43m_getitem_bool_array\u001b[49m\u001b[43m(\u001b[49m\u001b[43mkey\u001b[49m\u001b[43m)\u001b[49m\n\u001b[1;32m   3498\u001b[0m \u001b[38;5;66;03m# We are left with two options: a single key, and a collection of keys,\u001b[39;00m\n\u001b[1;32m   3499\u001b[0m \u001b[38;5;66;03m# We interpret tuples as collections only for non-MultiIndex\u001b[39;00m\n\u001b[1;32m   3500\u001b[0m is_single_key \u001b[38;5;241m=\u001b[39m \u001b[38;5;28misinstance\u001b[39m(key, \u001b[38;5;28mtuple\u001b[39m) \u001b[38;5;129;01mor\u001b[39;00m \u001b[38;5;129;01mnot\u001b[39;00m is_list_like(key)\n",
      "File \u001b[0;32m/usr/local/lib/python3.8/dist-packages/pandas/core/frame.py:3549\u001b[0m, in \u001b[0;36mDataFrame._getitem_bool_array\u001b[0;34m(self, key)\u001b[0m\n\u001b[1;32m   3543\u001b[0m     \u001b[38;5;28;01mraise\u001b[39;00m \u001b[38;5;167;01mValueError\u001b[39;00m(\n\u001b[1;32m   3544\u001b[0m         \u001b[38;5;124mf\u001b[39m\u001b[38;5;124m\"\u001b[39m\u001b[38;5;124mItem wrong length \u001b[39m\u001b[38;5;132;01m{\u001b[39;00m\u001b[38;5;28mlen\u001b[39m(key)\u001b[38;5;132;01m}\u001b[39;00m\u001b[38;5;124m instead of \u001b[39m\u001b[38;5;132;01m{\u001b[39;00m\u001b[38;5;28mlen\u001b[39m(\u001b[38;5;28mself\u001b[39m\u001b[38;5;241m.\u001b[39mindex)\u001b[38;5;132;01m}\u001b[39;00m\u001b[38;5;124m.\u001b[39m\u001b[38;5;124m\"\u001b[39m\n\u001b[1;32m   3545\u001b[0m     )\n\u001b[1;32m   3547\u001b[0m \u001b[38;5;66;03m# check_bool_indexer will throw exception if Series key cannot\u001b[39;00m\n\u001b[1;32m   3548\u001b[0m \u001b[38;5;66;03m# be reindexed to match DataFrame rows\u001b[39;00m\n\u001b[0;32m-> 3549\u001b[0m key \u001b[38;5;241m=\u001b[39m \u001b[43mcheck_bool_indexer\u001b[49m\u001b[43m(\u001b[49m\u001b[38;5;28;43mself\u001b[39;49m\u001b[38;5;241;43m.\u001b[39;49m\u001b[43mindex\u001b[49m\u001b[43m,\u001b[49m\u001b[43m \u001b[49m\u001b[43mkey\u001b[49m\u001b[43m)\u001b[49m\n\u001b[1;32m   3550\u001b[0m indexer \u001b[38;5;241m=\u001b[39m key\u001b[38;5;241m.\u001b[39mnonzero()[\u001b[38;5;241m0\u001b[39m]\n\u001b[1;32m   3551\u001b[0m \u001b[38;5;28;01mreturn\u001b[39;00m \u001b[38;5;28mself\u001b[39m\u001b[38;5;241m.\u001b[39m_take_with_is_copy(indexer, axis\u001b[38;5;241m=\u001b[39m\u001b[38;5;241m0\u001b[39m)\n",
      "File \u001b[0;32m/usr/local/lib/python3.8/dist-packages/pandas/core/indexing.py:2396\u001b[0m, in \u001b[0;36mcheck_bool_indexer\u001b[0;34m(index, key)\u001b[0m\n\u001b[1;32m   2392\u001b[0m \u001b[38;5;28;01melif\u001b[39;00m \u001b[38;5;129;01mnot\u001b[39;00m is_array_like(result):\n\u001b[1;32m   2393\u001b[0m     \u001b[38;5;66;03m# GH 33924\u001b[39;00m\n\u001b[1;32m   2394\u001b[0m     \u001b[38;5;66;03m# key may contain nan elements, check_array_indexer needs bool array\u001b[39;00m\n\u001b[1;32m   2395\u001b[0m     result \u001b[38;5;241m=\u001b[39m pd_array(result, dtype\u001b[38;5;241m=\u001b[39m\u001b[38;5;28mbool\u001b[39m)\n\u001b[0;32m-> 2396\u001b[0m \u001b[38;5;28;01mreturn\u001b[39;00m \u001b[43mcheck_array_indexer\u001b[49m\u001b[43m(\u001b[49m\u001b[43mindex\u001b[49m\u001b[43m,\u001b[49m\u001b[43m \u001b[49m\u001b[43mresult\u001b[49m\u001b[43m)\u001b[49m\n",
      "File \u001b[0;32m/usr/local/lib/python3.8/dist-packages/pandas/core/indexers/utils.py:573\u001b[0m, in \u001b[0;36mcheck_array_indexer\u001b[0;34m(array, indexer)\u001b[0m\n\u001b[1;32m    571\u001b[0m \u001b[38;5;28;01mif\u001b[39;00m is_bool_dtype(dtype):\n\u001b[1;32m    572\u001b[0m     \u001b[38;5;28;01mif\u001b[39;00m is_extension_array_dtype(dtype):\n\u001b[0;32m--> 573\u001b[0m         indexer \u001b[38;5;241m=\u001b[39m \u001b[43mindexer\u001b[49m\u001b[38;5;241;43m.\u001b[39;49m\u001b[43mto_numpy\u001b[49m\u001b[43m(\u001b[49m\u001b[43mdtype\u001b[49m\u001b[38;5;241;43m=\u001b[39;49m\u001b[38;5;28;43mbool\u001b[39;49m\u001b[43m,\u001b[49m\u001b[43m \u001b[49m\u001b[43mna_value\u001b[49m\u001b[38;5;241;43m=\u001b[39;49m\u001b[38;5;28;43;01mFalse\u001b[39;49;00m\u001b[43m)\u001b[49m\n\u001b[1;32m    574\u001b[0m     \u001b[38;5;28;01melse\u001b[39;00m:\n\u001b[1;32m    575\u001b[0m         indexer \u001b[38;5;241m=\u001b[39m np\u001b[38;5;241m.\u001b[39masarray(indexer, dtype\u001b[38;5;241m=\u001b[39m\u001b[38;5;28mbool\u001b[39m)\n",
      "File \u001b[0;32m/usr/local/lib/python3.8/dist-packages/pandas/core/base.py:530\u001b[0m, in \u001b[0;36mIndexOpsMixin.to_numpy\u001b[0;34m(self, dtype, copy, na_value, **kwargs)\u001b[0m\n\u001b[1;32m    437\u001b[0m \u001b[38;5;124;03m\"\"\"\u001b[39;00m\n\u001b[1;32m    438\u001b[0m \u001b[38;5;124;03mA NumPy ndarray representing the values in this Series or Index.\u001b[39;00m\n\u001b[1;32m    439\u001b[0m \n\u001b[0;32m   (...)\u001b[0m\n\u001b[1;32m    527\u001b[0m \u001b[38;5;124;03m      dtype='datetime64[ns]')\u001b[39;00m\n\u001b[1;32m    528\u001b[0m \u001b[38;5;124;03m\"\"\"\u001b[39;00m\n\u001b[1;32m    529\u001b[0m \u001b[38;5;28;01mif\u001b[39;00m is_extension_array_dtype(\u001b[38;5;28mself\u001b[39m\u001b[38;5;241m.\u001b[39mdtype):\n\u001b[0;32m--> 530\u001b[0m     \u001b[38;5;28;01mreturn\u001b[39;00m \u001b[38;5;28;43mself\u001b[39;49m\u001b[38;5;241;43m.\u001b[39;49m\u001b[43marray\u001b[49m\u001b[38;5;241;43m.\u001b[39;49m\u001b[43mto_numpy\u001b[49m\u001b[43m(\u001b[49m\u001b[43mdtype\u001b[49m\u001b[43m,\u001b[49m\u001b[43m \u001b[49m\u001b[43mcopy\u001b[49m\u001b[38;5;241;43m=\u001b[39;49m\u001b[43mcopy\u001b[49m\u001b[43m,\u001b[49m\u001b[43m \u001b[49m\u001b[43mna_value\u001b[49m\u001b[38;5;241;43m=\u001b[39;49m\u001b[43mna_value\u001b[49m\u001b[43m,\u001b[49m\u001b[43m \u001b[49m\u001b[38;5;241;43m*\u001b[39;49m\u001b[38;5;241;43m*\u001b[39;49m\u001b[43mkwargs\u001b[49m\u001b[43m)\u001b[49m\n\u001b[1;32m    531\u001b[0m \u001b[38;5;28;01melif\u001b[39;00m kwargs:\n\u001b[1;32m    532\u001b[0m     bad_keys \u001b[38;5;241m=\u001b[39m \u001b[38;5;28mlist\u001b[39m(kwargs\u001b[38;5;241m.\u001b[39mkeys())[\u001b[38;5;241m0\u001b[39m]\n",
      "File \u001b[0;32m/usr/local/lib/python3.8/dist-packages/pandas/core/arrays/base.py:489\u001b[0m, in \u001b[0;36mExtensionArray.to_numpy\u001b[0;34m(self, dtype, copy, na_value)\u001b[0m\n\u001b[1;32m    458\u001b[0m \u001b[38;5;28;01mdef\u001b[39;00m \u001b[38;5;21mto_numpy\u001b[39m(\n\u001b[1;32m    459\u001b[0m     \u001b[38;5;28mself\u001b[39m,\n\u001b[1;32m    460\u001b[0m     dtype: npt\u001b[38;5;241m.\u001b[39mDTypeLike \u001b[38;5;241m|\u001b[39m \u001b[38;5;28;01mNone\u001b[39;00m \u001b[38;5;241m=\u001b[39m \u001b[38;5;28;01mNone\u001b[39;00m,\n\u001b[1;32m    461\u001b[0m     copy: \u001b[38;5;28mbool\u001b[39m \u001b[38;5;241m=\u001b[39m \u001b[38;5;28;01mFalse\u001b[39;00m,\n\u001b[1;32m    462\u001b[0m     na_value\u001b[38;5;241m=\u001b[39mlib\u001b[38;5;241m.\u001b[39mno_default,\n\u001b[1;32m    463\u001b[0m ) \u001b[38;5;241m-\u001b[39m\u001b[38;5;241m>\u001b[39m np\u001b[38;5;241m.\u001b[39mndarray:\n\u001b[1;32m    464\u001b[0m     \u001b[38;5;124;03m\"\"\"\u001b[39;00m\n\u001b[1;32m    465\u001b[0m \u001b[38;5;124;03m    Convert to a NumPy ndarray.\u001b[39;00m\n\u001b[1;32m    466\u001b[0m \n\u001b[0;32m   (...)\u001b[0m\n\u001b[1;32m    487\u001b[0m \u001b[38;5;124;03m    numpy.ndarray\u001b[39;00m\n\u001b[1;32m    488\u001b[0m \u001b[38;5;124;03m    \"\"\"\u001b[39;00m\n\u001b[0;32m--> 489\u001b[0m     result \u001b[38;5;241m=\u001b[39m \u001b[43mnp\u001b[49m\u001b[38;5;241;43m.\u001b[39;49m\u001b[43masarray\u001b[49m\u001b[43m(\u001b[49m\u001b[38;5;28;43mself\u001b[39;49m\u001b[43m,\u001b[49m\u001b[43m \u001b[49m\u001b[43mdtype\u001b[49m\u001b[38;5;241;43m=\u001b[39;49m\u001b[43mdtype\u001b[49m\u001b[43m)\u001b[49m\n\u001b[1;32m    490\u001b[0m     \u001b[38;5;28;01mif\u001b[39;00m copy \u001b[38;5;129;01mor\u001b[39;00m na_value \u001b[38;5;129;01mis\u001b[39;00m \u001b[38;5;129;01mnot\u001b[39;00m lib\u001b[38;5;241m.\u001b[39mno_default:\n\u001b[1;32m    491\u001b[0m         result \u001b[38;5;241m=\u001b[39m result\u001b[38;5;241m.\u001b[39mcopy()\n",
      "File \u001b[0;32m~/.local/lib/python3.8/site-packages/awkward_pandas/array.py:146\u001b[0m, in \u001b[0;36mAwkwardExtensionArray.__array__\u001b[0;34m(self, dtype)\u001b[0m\n\u001b[1;32m    143\u001b[0m \u001b[38;5;28;01mif\u001b[39;00m dtype \u001b[38;5;241m==\u001b[39m np\u001b[38;5;241m.\u001b[39mdtype(\u001b[38;5;124m\"\u001b[39m\u001b[38;5;124mO\u001b[39m\u001b[38;5;124m\"\u001b[39m):\n\u001b[1;32m    144\u001b[0m     \u001b[38;5;28;01mreturn\u001b[39;00m np\u001b[38;5;241m.\u001b[39masarray(\u001b[38;5;28mself\u001b[39m\u001b[38;5;241m.\u001b[39m_data\u001b[38;5;241m.\u001b[39mtolist(), dtype\u001b[38;5;241m=\u001b[39mdtype)\n\u001b[0;32m--> 146\u001b[0m \u001b[38;5;28;01mreturn\u001b[39;00m \u001b[43mnp\u001b[49m\u001b[38;5;241;43m.\u001b[39;49m\u001b[43masarray\u001b[49m\u001b[43m(\u001b[49m\u001b[38;5;28;43mself\u001b[39;49m\u001b[38;5;241;43m.\u001b[39;49m\u001b[43m_data\u001b[49m\u001b[43m,\u001b[49m\u001b[43m \u001b[49m\u001b[43mdtype\u001b[49m\u001b[38;5;241;43m=\u001b[39;49m\u001b[43mdtype\u001b[49m\u001b[43m)\u001b[49m\n",
      "File \u001b[0;32m~/.local/lib/python3.8/site-packages/awkward/highlevel.py:1434\u001b[0m, in \u001b[0;36mArray.__array__\u001b[0;34m(self, dtype)\u001b[0m\n\u001b[1;32m   1429\u001b[0m \u001b[38;5;28;01mwith\u001b[39;00m ak\u001b[38;5;241m.\u001b[39m_errors\u001b[38;5;241m.\u001b[39mOperationErrorContext(\n\u001b[1;32m   1430\u001b[0m     \u001b[38;5;124m\"\u001b[39m\u001b[38;5;124mnumpy.asarray\u001b[39m\u001b[38;5;124m\"\u001b[39m, (\u001b[38;5;28mself\u001b[39m,), {\u001b[38;5;124m\"\u001b[39m\u001b[38;5;124mdtype\u001b[39m\u001b[38;5;124m\"\u001b[39m: dtype}\n\u001b[1;32m   1431\u001b[0m ):\n\u001b[1;32m   1432\u001b[0m     \u001b[38;5;28;01mfrom\u001b[39;00m \u001b[38;5;21;01mawkward\u001b[39;00m\u001b[38;5;21;01m.\u001b[39;00m\u001b[38;5;21;01m_connect\u001b[39;00m\u001b[38;5;21;01m.\u001b[39;00m\u001b[38;5;21;01mnumpy\u001b[39;00m \u001b[38;5;28;01mimport\u001b[39;00m convert_to_array\n\u001b[0;32m-> 1434\u001b[0m     \u001b[38;5;28;01mreturn\u001b[39;00m convert_to_array(\u001b[38;5;28mself\u001b[39m\u001b[38;5;241m.\u001b[39m_layout, dtype\u001b[38;5;241m=\u001b[39mdtype)\n",
      "File \u001b[0;32m~/.local/lib/python3.8/site-packages/awkward/_errors.py:85\u001b[0m, in \u001b[0;36mErrorContext.__exit__\u001b[0;34m(self, exception_type, exception_value, traceback)\u001b[0m\n\u001b[1;32m     78\u001b[0m \u001b[38;5;28;01mtry\u001b[39;00m:\n\u001b[1;32m     79\u001b[0m     \u001b[38;5;66;03m# Handle caught exception\u001b[39;00m\n\u001b[1;32m     80\u001b[0m     \u001b[38;5;28;01mif\u001b[39;00m (\n\u001b[1;32m     81\u001b[0m         exception_type \u001b[38;5;129;01mis\u001b[39;00m \u001b[38;5;129;01mnot\u001b[39;00m \u001b[38;5;28;01mNone\u001b[39;00m\n\u001b[1;32m     82\u001b[0m         \u001b[38;5;129;01mand\u001b[39;00m \u001b[38;5;28missubclass\u001b[39m(exception_type, \u001b[38;5;167;01mException\u001b[39;00m)\n\u001b[1;32m     83\u001b[0m         \u001b[38;5;129;01mand\u001b[39;00m \u001b[38;5;28mself\u001b[39m\u001b[38;5;241m.\u001b[39mprimary() \u001b[38;5;129;01mis\u001b[39;00m \u001b[38;5;28mself\u001b[39m\n\u001b[1;32m     84\u001b[0m     ):\n\u001b[0;32m---> 85\u001b[0m         \u001b[38;5;28;43mself\u001b[39;49m\u001b[38;5;241;43m.\u001b[39;49m\u001b[43mhandle_exception\u001b[49m\u001b[43m(\u001b[49m\u001b[43mexception_type\u001b[49m\u001b[43m,\u001b[49m\u001b[43m \u001b[49m\u001b[43mexception_value\u001b[49m\u001b[43m)\u001b[49m\n\u001b[1;32m     86\u001b[0m \u001b[38;5;28;01mfinally\u001b[39;00m:\n\u001b[1;32m     87\u001b[0m     \u001b[38;5;66;03m# Step out of the way so that another ErrorContext can become primary.\u001b[39;00m\n\u001b[1;32m     88\u001b[0m     \u001b[38;5;28;01mif\u001b[39;00m \u001b[38;5;28mself\u001b[39m\u001b[38;5;241m.\u001b[39mprimary() \u001b[38;5;129;01mis\u001b[39;00m \u001b[38;5;28mself\u001b[39m:\n",
      "File \u001b[0;32m~/.local/lib/python3.8/site-packages/awkward/_errors.py:95\u001b[0m, in \u001b[0;36mErrorContext.handle_exception\u001b[0;34m(self, cls, exception)\u001b[0m\n\u001b[1;32m     93\u001b[0m     \u001b[38;5;28mself\u001b[39m\u001b[38;5;241m.\u001b[39mdecorate_exception(\u001b[38;5;28mcls\u001b[39m, exception)\n\u001b[1;32m     94\u001b[0m \u001b[38;5;28;01melse\u001b[39;00m:\n\u001b[0;32m---> 95\u001b[0m     \u001b[38;5;28;01mraise\u001b[39;00m \u001b[38;5;28mself\u001b[39m\u001b[38;5;241m.\u001b[39mdecorate_exception(\u001b[38;5;28mcls\u001b[39m, exception)\n",
      "\u001b[0;31mValueError\u001b[0m: cannot convert to RegularArray because subarray lengths are not regular (in compiled code: https://github.com/scikit-hep/awkward/blob/awkward-cpp-28/awkward-cpp/src/cpu-kernels/awkward_ListOffsetArray_toRegularArray.cpp#L22)\n\nThis error occurred while calling\n\n    numpy.asarray(\n        <Array [[True, True, ..., True, False], ...] type='1000 * var * bool'>\n        dtype = dtype[bool_]-instance\n    )"
     ]
    }
   ],
   "source": [
    "myarray[myarray[\"pickupFlag\"]== False]"
   ]
  },
  {
   "cell_type": "markdown",
   "id": "815dc723",
   "metadata": {},
   "source": [
    "What makes the cell above fail? [myarray[\"pickupFlag\"]== False] returns pulse based True false table. myarray table is the mix of pulse based and event based tables. They have different array length, so it crash."
   ]
  },
  {
   "cell_type": "code",
   "execution_count": 12,
   "id": "1ae90a01",
   "metadata": {},
   "outputs": [
    {
     "data": {
      "text/html": [
       "<div>\n",
       "<style scoped>\n",
       "    .dataframe tbody tr th:only-of-type {\n",
       "        vertical-align: middle;\n",
       "    }\n",
       "\n",
       "    .dataframe tbody tr th {\n",
       "        vertical-align: top;\n",
       "    }\n",
       "\n",
       "    .dataframe thead th {\n",
       "        text-align: right;\n",
       "    }\n",
       "</style>\n",
       "<table border=\"1\" class=\"dataframe\">\n",
       "  <thead>\n",
       "    <tr style=\"text-align: right;\">\n",
       "      <th></th>\n",
       "      <th>event</th>\n",
       "      <th>nPE</th>\n",
       "      <th>height</th>\n",
       "      <th>area</th>\n",
       "      <th>chan</th>\n",
       "      <th>row</th>\n",
       "      <th>column</th>\n",
       "      <th>layer</th>\n",
       "      <th>type</th>\n",
       "      <th>pickupFlag</th>\n",
       "      <th>board</th>\n",
       "    </tr>\n",
       "  </thead>\n",
       "  <tbody>\n",
       "    <tr>\n",
       "      <th>0</th>\n",
       "      <td>0</td>\n",
       "      <td>[34.49435043334961, 5.164087772369385, 23.9705...</td>\n",
       "      <td>[834.7025756835938, 159.44390869140625, 591.70...</td>\n",
       "      <td>[27608.2421875, 4133.18115234375, 25175.537109...</td>\n",
       "      <td>[52, 52, 53, 53, 53, 53, 53, 69, 69]</td>\n",
       "      <td>[3, 3, 3, 3, 3, 3, 3, 4, 4]</td>\n",
       "      <td>[2, 2, 3, 3, 3, 3, 3, 0, 0]</td>\n",
       "      <td>[3, 3, 3, 3, 3, 3, 3, 2, 2]</td>\n",
       "      <td>[0, 0, 0, 0, 0, 0, 0, 2, 2]</td>\n",
       "      <td>[False, False, False, False, True, False, Fals...</td>\n",
       "      <td>[3, 3, 3, 3, 3, 3, 3, 4, 4]</td>\n",
       "    </tr>\n",
       "    <tr>\n",
       "      <th>1</th>\n",
       "      <td>1</td>\n",
       "      <td>[17.327699661254883, 17.740549087524414, 0.120...</td>\n",
       "      <td>[710.15234375, 578.4378051757812, 35.546146392...</td>\n",
       "      <td>[22873.775390625, 23418.765625, 298.8862304687...</td>\n",
       "      <td>[6, 9, 10, 12, 14, 53]</td>\n",
       "      <td>[2, 1, 0, 1, 0, 3]</td>\n",
       "      <td>[2, 1, 0, 2, 2, 3]</td>\n",
       "      <td>[0, 0, 0, 0, 0, 3]</td>\n",
       "      <td>[0, 0, 0, 0, 0, 0]</td>\n",
       "      <td>[False, False, True, False, True, True]</td>\n",
       "      <td>[0, 0, 0, 0, 0, 3]</td>\n",
       "    </tr>\n",
       "    <tr>\n",
       "      <th>2</th>\n",
       "      <td>2</td>\n",
       "      <td>[1.845363974571228, 1648.2103271484375]</td>\n",
       "      <td>[61.8840446472168, 65.7232666015625]</td>\n",
       "      <td>[2021.6146240234375, 1648.2103271484375]</td>\n",
       "      <td>[46, 70]</td>\n",
       "      <td>[0, 0]</td>\n",
       "      <td>[2, -1]</td>\n",
       "      <td>[2, 0]</td>\n",
       "      <td>[0, 2]</td>\n",
       "      <td>[False, True]</td>\n",
       "      <td>[2, 4]</td>\n",
       "    </tr>\n",
       "    <tr>\n",
       "      <th>3</th>\n",
       "      <td>3</td>\n",
       "      <td>[50.27479553222656, 2.1452269554138184, 4.6710...</td>\n",
       "      <td>[1250.175537109375, 57.70257568359375, 150.741...</td>\n",
       "      <td>[75215.1171875, 3209.43115234375, 6166.0712890...</td>\n",
       "      <td>[0, 0, 12, 18, 34, 45, 57, 57, 57, 57, 57, 59,...</td>\n",
       "      <td>[3, 3, 1, 2, 2, 1, 1, 1, 1, 1, 1, 0, 0, 0]</td>\n",
       "      <td>[0, 0, 2, 0, 0, 3, 1, 1, 1, 1, 1, 1, 1, 1]</td>\n",
       "      <td>[0, 0, 0, 1, 2, 2, 3, 3, 3, 3, 3, 3, 3, 3]</td>\n",
       "      <td>[0, 0, 0, 0, 0, 0, 0, 0, 0, 0, 0, 0, 0, 0]</td>\n",
       "      <td>[False, False, False, False, False, True, Fals...</td>\n",
       "      <td>[0, 0, 0, 1, 2, 2, 3, 3, 3, 3, 3, 3, 3, 3]</td>\n",
       "    </tr>\n",
       "    <tr>\n",
       "      <th>4</th>\n",
       "      <td>4</td>\n",
       "      <td>[0.5228163003921509, 1.2120945453643799, 70.50...</td>\n",
       "      <td>[31.497472763061523, 45.49945068359375, 1249.9...</td>\n",
       "      <td>[690.1541137695312, 1339.849365234375, 68460.2...</td>\n",
       "      <td>[7, 15, 16, 16, 16, 32, 33, 35, 38, 39, 39, 61...</td>\n",
       "      <td>[2, 0, 3, 3, 3, 3, 3, 2, 2, 2, 2, 1, 1, 1, 1, 1]</td>\n",
       "      <td>[3, 3, 0, 0, 0, 0, 1, 1, 2, 3, 3, 3, 0, 0, 1, 1]</td>\n",
       "      <td>[0, 0, 1, 1, 1, 2, 2, 2, 2, 2, 2, 3, 1, 1, 1, 1]</td>\n",
       "      <td>[0, 0, 0, 0, 0, 0, 0, 0, 0, 0, 0, 0, 0, 0, 0, 0]</td>\n",
       "      <td>[False, False, False, False, True, False, True...</td>\n",
       "      <td>[0, 0, 1, 1, 1, 2, 2, 2, 2, 2, 2, 3, 4, 4, 4, 4]</td>\n",
       "    </tr>\n",
       "    <tr>\n",
       "      <th>...</th>\n",
       "      <td>...</td>\n",
       "      <td>...</td>\n",
       "      <td>...</td>\n",
       "      <td>...</td>\n",
       "      <td>...</td>\n",
       "      <td>...</td>\n",
       "      <td>...</td>\n",
       "      <td>...</td>\n",
       "      <td>...</td>\n",
       "      <td>...</td>\n",
       "      <td>...</td>\n",
       "    </tr>\n",
       "    <tr>\n",
       "      <th>995</th>\n",
       "      <td>995</td>\n",
       "      <td>[42640.72265625, 1269.01904296875, 206.3773651...</td>\n",
       "      <td>[829.4407958984375, 49.91661834716797, 16.7545...</td>\n",
       "      <td>[42640.72265625, 1269.01904296875, 206.3773651...</td>\n",
       "      <td>[68, 68, 69]</td>\n",
       "      <td>[4, 4, 4]</td>\n",
       "      <td>[0, 0, 0]</td>\n",
       "      <td>[0, 0, 2]</td>\n",
       "      <td>[2, 2, 2]</td>\n",
       "      <td>[False, True, True]</td>\n",
       "      <td>[4, 4, 4]</td>\n",
       "    </tr>\n",
       "    <tr>\n",
       "      <th>996</th>\n",
       "      <td>996</td>\n",
       "      <td>[3.1090457439422607, 0.9015002846717834, 2.321...</td>\n",
       "      <td>[115.227294921875, 50.21115493774414, 68.92465...</td>\n",
       "      <td>[4104.158203125, 1190.04345703125, 3065.157958...</td>\n",
       "      <td>[7, 7, 7, 7, 7, 7, 7, 7, 7, 7, 38, 53, 57, 59,...</td>\n",
       "      <td>[2, 2, 2, 2, 2, 2, 2, 2, 2, 2, 2, 3, 1, 0, 0]</td>\n",
       "      <td>[3, 3, 3, 3, 3, 3, 3, 3, 3, 3, 2, 3, 1, 1, 1]</td>\n",
       "      <td>[0, 0, 0, 0, 0, 0, 0, 0, 0, 0, 2, 3, 3, 3, 3]</td>\n",
       "      <td>[0, 0, 0, 0, 0, 0, 0, 0, 0, 0, 0, 0, 0, 0, 0]</td>\n",
       "      <td>[False, True, False, True, False, False, False...</td>\n",
       "      <td>[0, 0, 0, 0, 0, 0, 0, 0, 0, 0, 2, 3, 3, 3, 3]</td>\n",
       "    </tr>\n",
       "    <tr>\n",
       "      <th>997</th>\n",
       "      <td>997</td>\n",
       "      <td>[21.264760971069336, 0.28888237476348877, 0.17...</td>\n",
       "      <td>[850.3159790039062, 21.820079803466797, 14.843...</td>\n",
       "      <td>[27066.638671875, 367.7010192871094, 226.82763...</td>\n",
       "      <td>[4, 4, 4, 10, 10, 14, 29, 36, 36, 36, 36, 50, ...</td>\n",
       "      <td>[3, 3, 3, 0, 0, 0, 1, 3, 3, 3, 3, 2, 3, 1, 1]</td>\n",
       "      <td>[2, 2, 2, 0, 0, 2, 3, 2, 2, 2, 2, 0, 3, 1, 0]</td>\n",
       "      <td>[0, 0, 0, 0, 0, 0, 1, 2, 2, 2, 2, 3, 3, 3, 1]</td>\n",
       "      <td>[0, 0, 0, 0, 0, 0, 0, 0, 0, 0, 0, 0, 0, 0, 0]</td>\n",
       "      <td>[False, False, False, False, False, False, Fal...</td>\n",
       "      <td>[0, 0, 0, 0, 0, 0, 1, 2, 2, 2, 2, 3, 3, 3, 4]</td>\n",
       "    </tr>\n",
       "    <tr>\n",
       "      <th>998</th>\n",
       "      <td>998</td>\n",
       "      <td>[50.805938720703125]</td>\n",
       "      <td>[11.258383750915527]</td>\n",
       "      <td>[50.805938720703125]</td>\n",
       "      <td>[71]</td>\n",
       "      <td>[0]</td>\n",
       "      <td>[-1]</td>\n",
       "      <td>[2]</td>\n",
       "      <td>[2]</td>\n",
       "      <td>[True]</td>\n",
       "      <td>[4]</td>\n",
       "    </tr>\n",
       "    <tr>\n",
       "      <th>999</th>\n",
       "      <td>999</td>\n",
       "      <td>[2.298346757888794, 0.051053449511528015, 37.3...</td>\n",
       "      <td>[77.2625503540039, 10.276068687438965, 1072.00...</td>\n",
       "      <td>[2035.1861572265625, 45.207828521728516, 49250...</td>\n",
       "      <td>[5, 5, 7, 7, 7, 7, 7, 9, 11, 68, 68, 68, 68]</td>\n",
       "      <td>[3, 3, 2, 2, 2, 2, 2, 1, 0, 4, 4, 4, 4]</td>\n",
       "      <td>[3, 3, 3, 3, 3, 3, 3, 1, 1, 0, 0, 0, 0]</td>\n",
       "      <td>[0, 0, 0, 0, 0, 0, 0, 0, 0, 0, 0, 0, 0]</td>\n",
       "      <td>[0, 0, 0, 0, 0, 0, 0, 0, 0, 2, 2, 2, 2]</td>\n",
       "      <td>[True, True, False, False, False, True, False,...</td>\n",
       "      <td>[0, 0, 0, 0, 0, 0, 0, 0, 0, 4, 4, 4, 4]</td>\n",
       "    </tr>\n",
       "  </tbody>\n",
       "</table>\n",
       "<p>1000 rows × 11 columns</p>\n",
       "</div>"
      ],
      "text/plain": [
       "     event                                                nPE  \\\n",
       "0        0  [34.49435043334961, 5.164087772369385, 23.9705...   \n",
       "1        1  [17.327699661254883, 17.740549087524414, 0.120...   \n",
       "2        2            [1.845363974571228, 1648.2103271484375]   \n",
       "3        3  [50.27479553222656, 2.1452269554138184, 4.6710...   \n",
       "4        4  [0.5228163003921509, 1.2120945453643799, 70.50...   \n",
       "..     ...                                                ...   \n",
       "995    995  [42640.72265625, 1269.01904296875, 206.3773651...   \n",
       "996    996  [3.1090457439422607, 0.9015002846717834, 2.321...   \n",
       "997    997  [21.264760971069336, 0.28888237476348877, 0.17...   \n",
       "998    998                               [50.805938720703125]   \n",
       "999    999  [2.298346757888794, 0.051053449511528015, 37.3...   \n",
       "\n",
       "                                                height  \\\n",
       "0    [834.7025756835938, 159.44390869140625, 591.70...   \n",
       "1    [710.15234375, 578.4378051757812, 35.546146392...   \n",
       "2                 [61.8840446472168, 65.7232666015625]   \n",
       "3    [1250.175537109375, 57.70257568359375, 150.741...   \n",
       "4    [31.497472763061523, 45.49945068359375, 1249.9...   \n",
       "..                                                 ...   \n",
       "995  [829.4407958984375, 49.91661834716797, 16.7545...   \n",
       "996  [115.227294921875, 50.21115493774414, 68.92465...   \n",
       "997  [850.3159790039062, 21.820079803466797, 14.843...   \n",
       "998                               [11.258383750915527]   \n",
       "999  [77.2625503540039, 10.276068687438965, 1072.00...   \n",
       "\n",
       "                                                  area  \\\n",
       "0    [27608.2421875, 4133.18115234375, 25175.537109...   \n",
       "1    [22873.775390625, 23418.765625, 298.8862304687...   \n",
       "2             [2021.6146240234375, 1648.2103271484375]   \n",
       "3    [75215.1171875, 3209.43115234375, 6166.0712890...   \n",
       "4    [690.1541137695312, 1339.849365234375, 68460.2...   \n",
       "..                                                 ...   \n",
       "995  [42640.72265625, 1269.01904296875, 206.3773651...   \n",
       "996  [4104.158203125, 1190.04345703125, 3065.157958...   \n",
       "997  [27066.638671875, 367.7010192871094, 226.82763...   \n",
       "998                               [50.805938720703125]   \n",
       "999  [2035.1861572265625, 45.207828521728516, 49250...   \n",
       "\n",
       "                                                  chan  \\\n",
       "0                 [52, 52, 53, 53, 53, 53, 53, 69, 69]   \n",
       "1                               [6, 9, 10, 12, 14, 53]   \n",
       "2                                             [46, 70]   \n",
       "3    [0, 0, 12, 18, 34, 45, 57, 57, 57, 57, 57, 59,...   \n",
       "4    [7, 15, 16, 16, 16, 32, 33, 35, 38, 39, 39, 61...   \n",
       "..                                                 ...   \n",
       "995                                       [68, 68, 69]   \n",
       "996  [7, 7, 7, 7, 7, 7, 7, 7, 7, 7, 38, 53, 57, 59,...   \n",
       "997  [4, 4, 4, 10, 10, 14, 29, 36, 36, 36, 36, 50, ...   \n",
       "998                                               [71]   \n",
       "999       [5, 5, 7, 7, 7, 7, 7, 9, 11, 68, 68, 68, 68]   \n",
       "\n",
       "                                                  row  \\\n",
       "0                         [3, 3, 3, 3, 3, 3, 3, 4, 4]   \n",
       "1                                  [2, 1, 0, 1, 0, 3]   \n",
       "2                                              [0, 0]   \n",
       "3          [3, 3, 1, 2, 2, 1, 1, 1, 1, 1, 1, 0, 0, 0]   \n",
       "4    [2, 0, 3, 3, 3, 3, 3, 2, 2, 2, 2, 1, 1, 1, 1, 1]   \n",
       "..                                                ...   \n",
       "995                                         [4, 4, 4]   \n",
       "996     [2, 2, 2, 2, 2, 2, 2, 2, 2, 2, 2, 3, 1, 0, 0]   \n",
       "997     [3, 3, 3, 0, 0, 0, 1, 3, 3, 3, 3, 2, 3, 1, 1]   \n",
       "998                                               [0]   \n",
       "999           [3, 3, 2, 2, 2, 2, 2, 1, 0, 4, 4, 4, 4]   \n",
       "\n",
       "                                               column  \\\n",
       "0                         [2, 2, 3, 3, 3, 3, 3, 0, 0]   \n",
       "1                                  [2, 1, 0, 2, 2, 3]   \n",
       "2                                             [2, -1]   \n",
       "3          [0, 0, 2, 0, 0, 3, 1, 1, 1, 1, 1, 1, 1, 1]   \n",
       "4    [3, 3, 0, 0, 0, 0, 1, 1, 2, 3, 3, 3, 0, 0, 1, 1]   \n",
       "..                                                ...   \n",
       "995                                         [0, 0, 0]   \n",
       "996     [3, 3, 3, 3, 3, 3, 3, 3, 3, 3, 2, 3, 1, 1, 1]   \n",
       "997     [2, 2, 2, 0, 0, 2, 3, 2, 2, 2, 2, 0, 3, 1, 0]   \n",
       "998                                              [-1]   \n",
       "999           [3, 3, 3, 3, 3, 3, 3, 1, 1, 0, 0, 0, 0]   \n",
       "\n",
       "                                                layer  \\\n",
       "0                         [3, 3, 3, 3, 3, 3, 3, 2, 2]   \n",
       "1                                  [0, 0, 0, 0, 0, 3]   \n",
       "2                                              [2, 0]   \n",
       "3          [0, 0, 0, 1, 2, 2, 3, 3, 3, 3, 3, 3, 3, 3]   \n",
       "4    [0, 0, 1, 1, 1, 2, 2, 2, 2, 2, 2, 3, 1, 1, 1, 1]   \n",
       "..                                                ...   \n",
       "995                                         [0, 0, 2]   \n",
       "996     [0, 0, 0, 0, 0, 0, 0, 0, 0, 0, 2, 3, 3, 3, 3]   \n",
       "997     [0, 0, 0, 0, 0, 0, 1, 2, 2, 2, 2, 3, 3, 3, 1]   \n",
       "998                                               [2]   \n",
       "999           [0, 0, 0, 0, 0, 0, 0, 0, 0, 0, 0, 0, 0]   \n",
       "\n",
       "                                                 type  \\\n",
       "0                         [0, 0, 0, 0, 0, 0, 0, 2, 2]   \n",
       "1                                  [0, 0, 0, 0, 0, 0]   \n",
       "2                                              [0, 2]   \n",
       "3          [0, 0, 0, 0, 0, 0, 0, 0, 0, 0, 0, 0, 0, 0]   \n",
       "4    [0, 0, 0, 0, 0, 0, 0, 0, 0, 0, 0, 0, 0, 0, 0, 0]   \n",
       "..                                                ...   \n",
       "995                                         [2, 2, 2]   \n",
       "996     [0, 0, 0, 0, 0, 0, 0, 0, 0, 0, 0, 0, 0, 0, 0]   \n",
       "997     [0, 0, 0, 0, 0, 0, 0, 0, 0, 0, 0, 0, 0, 0, 0]   \n",
       "998                                               [2]   \n",
       "999           [0, 0, 0, 0, 0, 0, 0, 0, 0, 2, 2, 2, 2]   \n",
       "\n",
       "                                            pickupFlag  \\\n",
       "0    [False, False, False, False, True, False, Fals...   \n",
       "1              [False, False, True, False, True, True]   \n",
       "2                                        [False, True]   \n",
       "3    [False, False, False, False, False, True, Fals...   \n",
       "4    [False, False, False, False, True, False, True...   \n",
       "..                                                 ...   \n",
       "995                                [False, True, True]   \n",
       "996  [False, True, False, True, False, False, False...   \n",
       "997  [False, False, False, False, False, False, Fal...   \n",
       "998                                             [True]   \n",
       "999  [True, True, False, False, False, True, False,...   \n",
       "\n",
       "                                                board  \n",
       "0                         [3, 3, 3, 3, 3, 3, 3, 4, 4]  \n",
       "1                                  [0, 0, 0, 0, 0, 3]  \n",
       "2                                              [2, 4]  \n",
       "3          [0, 0, 0, 1, 2, 2, 3, 3, 3, 3, 3, 3, 3, 3]  \n",
       "4    [0, 0, 1, 1, 1, 2, 2, 2, 2, 2, 2, 3, 4, 4, 4, 4]  \n",
       "..                                                ...  \n",
       "995                                         [4, 4, 4]  \n",
       "996     [0, 0, 0, 0, 0, 0, 0, 0, 0, 0, 2, 3, 3, 3, 3]  \n",
       "997     [0, 0, 0, 0, 0, 0, 1, 2, 2, 2, 2, 3, 3, 3, 4]  \n",
       "998                                               [4]  \n",
       "999           [0, 0, 0, 0, 0, 0, 0, 0, 0, 4, 4, 4, 4]  \n",
       "\n",
       "[1000 rows x 11 columns]"
      ]
     },
     "execution_count": 12,
     "metadata": {},
     "output_type": "execute_result"
    }
   ],
   "source": [
    "myarray"
   ]
  },
  {
   "cell_type": "code",
   "execution_count": 16,
   "id": "1a40dc32",
   "metadata": {},
   "outputs": [
    {
     "data": {
      "text/plain": [
       "1    [22873.775390625 23418.765625 298.88623046875 ...\n",
       "Name: area, dtype: awkward"
      ]
     },
     "execution_count": 16,
     "metadata": {},
     "output_type": "execute_result"
    }
   ],
   "source": [
    "myarray[myarray[\"event\"]==1][\"area\"]"
   ]
  },
  {
   "cell_type": "code",
   "execution_count": 19,
   "id": "514ca3b4",
   "metadata": {},
   "outputs": [
    {
     "data": {
      "text/plain": [
       "0      [True, True, True, False, False, False, False,...\n",
       "1                [True, True, False, True, False, False]\n",
       "2                                           [True, True]\n",
       "3      [True, True, True, True, True, False, True, Tr...\n",
       "4      [False, True, True, False, False, False, False...\n",
       "                             ...                        \n",
       "995                                   [True, True, True]\n",
       "996    [True, False, True, True, True, False, True, F...\n",
       "997    [True, False, False, True, False, True, True, ...\n",
       "998                                               [True]\n",
       "999    [True, False, True, False, True, False, True, ...\n",
       "Name: nPE, Length: 1000, dtype: awkward"
      ]
     },
     "execution_count": 19,
     "metadata": {},
     "output_type": "execute_result"
    }
   ],
   "source": [
    "myarray[\"nPE\"]>=1"
   ]
  },
  {
   "cell_type": "code",
   "execution_count": null,
   "id": "5d95b179",
   "metadata": {},
   "outputs": [],
   "source": []
  },
  {
   "cell_type": "markdown",
   "id": "1bcfdba4",
   "metadata": {},
   "source": [
    "pulse based analysis"
   ]
  },
  {
   "cell_type": "code",
   "execution_count": 37,
   "id": "b0fe57b7",
   "metadata": {},
   "outputs": [],
   "source": [
    "branches = tree.arrays([\"height\",\"nPE\"], cut=\"pickupFlag == False\")"
   ]
  },
  {
   "cell_type": "code",
   "execution_count": 38,
   "id": "2556593f",
   "metadata": {},
   "outputs": [
    {
     "data": {
      "text/html": [
       "<pre>[{height: [835, 159, 592, ..., 22.3, 702], nPE: [34.5, ...]},\n",
       " {height: [710, 578, 231], nPE: [17.3, ..., 6.08]},\n",
       " {height: [61.9], nPE: [1.85]},\n",
       " {height: [1.25e+03, 57.7, ..., 22.1], nPE: [50.3, ...]},\n",
       " {height: [31.5, 45.5, ..., 342, 29.9], nPE: [0.523, ...]},\n",
       " {height: [73.8, 164, 79, ..., 123, 98], nPE: [2.52, ...]},\n",
       " {height: [396, 62.9, ..., 60.8, 110], nPE: [12.2, ...]},\n",
       " {height: [317, 38.9, 214, ..., 49.1, 169], nPE: [13.7, ...]},\n",
       " {height: [1.25e+03, 1.25e+03, ..., 21.4], nPE: [52.1, ...]},\n",
       " {height: [], nPE: []},\n",
       " ...,\n",
       " {height: [576, 47.8, 605, ..., 178, 112], nPE: [15.6, ...]},\n",
       " {height: [558, 716, ..., 94.1, 69.9], nPE: [9.61, ...]},\n",
       " {height: [103, 1.07e+03, ..., 157], nPE: [2.68, ...]},\n",
       " {height: [18.8, 30.9, ..., 521, 41.9], nPE: [0.419, ...]},\n",
       " {height: [829], nPE: [4.26e+04]},\n",
       " {height: [115, 68.9, 664, ..., 992, 20.6], nPE: [3.11, ...]},\n",
       " {height: [850, 21.8, 14.8, ..., 109, 57], nPE: [21.3, ...]},\n",
       " {height: [], nPE: []},\n",
       " {height: [1.07e+03, 43.7, ..., 25, 14.1], nPE: [37.3, ...]}]\n",
       "--------------------------------------------------------------\n",
       "type: 1000 * {\n",
       "    height: var * float32,\n",
       "    nPE: var * float32\n",
       "}</pre>"
      ],
      "text/plain": [
       "<Array [{height: [...], nPE: [...]}, ...] type='1000 * {height: var * float...'>"
      ]
     },
     "execution_count": 38,
     "metadata": {},
     "output_type": "execute_result"
    }
   ],
   "source": [
    "branches"
   ]
  },
  {
   "cell_type": "code",
   "execution_count": 42,
   "id": "e718e50e",
   "metadata": {},
   "outputs": [
    {
     "name": "stderr",
     "output_type": "stream",
     "text": [
      "Warning in <TROOT::Append>: Replacing existing TH1: h_NPE (Potential memory leak).\n",
      "Warning in <TCanvas::Constructor>: Deleting canvas with same name: c1\n"
     ]
    },
    {
     "data": {
      "image/png": "[encoded data removed]",
      "text/plain": [
       "<IPython.core.display.Image object>"
      ]
     },
     "metadata": {},
     "output_type": "display_data"
    }
   ],
   "source": [
    "NPE_height = r.TH2F(\"h_NPE\",\"h_npe;height;NPE\",200, 0, 200,1000,0,1000)\n",
    "heights = arr.array('d', ak.flatten(branches['height']))\n",
    "nPE = arr.array('d', ak.flatten(branches['nPE']))\n",
    "#fill the histogram\n",
    "#inputs are number of entries, xvalues,yvalues and weights\n",
    "NPE_height.FillN(len(heights), heights, nPE,np.ones(len(heights)))\n",
    "c1 = r.TCanvas(\"c1\", \"c1\", 500, 400)\n",
    "c1.cd()\n",
    "NPE_height.Draw()\n",
    "c1.Draw()"
   ]
  },
  {
   "cell_type": "code",
   "execution_count": null,
   "id": "9abd03f7",
   "metadata": {},
   "outputs": [],
   "source": []
  },
  {
   "cell_type": "code",
   "execution_count": null,
   "id": "e20afde8",
   "metadata": {},
   "outputs": [],
   "source": []
  },
  {
   "cell_type": "code",
   "execution_count": 34,
   "id": "c29d9bdd",
   "metadata": {},
   "outputs": [],
   "source": [
    "uptree = uproot.open(\"MilliQan_Run1202.237_v34.root:t\")"
   ]
  },
  {
   "cell_type": "code",
   "execution_count": 35,
   "id": "e5a99825",
   "metadata": {},
   "outputs": [
    {
     "data": {
      "text/plain": [
       "{'event': 'int32_t',\n",
       " 'runNumber': 'int64_t',\n",
       " 'fileNumber': 'int64_t',\n",
       " 'boardsMatched': 'bool',\n",
       " 'DAQEventNumber': 'int32_t',\n",
       " 'daqFileOpen': 'uint64_t',\n",
       " 'daqFileClose': 'uint64_t',\n",
       " 'totalFillLumi': 'float',\n",
       " 'fillId': 'int32_t',\n",
       " 'beamType': 'TString',\n",
       " 'beamEnergy': 'float',\n",
       " 'betaStar': 'float',\n",
       " 'beamOn': 'bool',\n",
       " 'fillStart': 'uint64_t',\n",
       " 'fillEnd': 'uint64_t',\n",
       " 'triggerThreshold': 'std::vector<float>',\n",
       " 'triggerEnable': 'std::vector<bool>',\n",
       " 'triggerMajority': 'std::vector<int32_t>',\n",
       " 'triggerLogic': 'std::vector<int32_t>',\n",
       " 'dynamicPedestal': 'std::vector<float>',\n",
       " 'sidebandMean': 'std::vector<float>',\n",
       " 'sidebandRMS': 'std::vector<float>',\n",
       " 'maxThreeConsec': 'std::vector<float>',\n",
       " 'chan': 'std::vector<int32_t>',\n",
       " 'chanWithinBoard': 'std::vector<int32_t>',\n",
       " 'row': 'std::vector<int32_t>',\n",
       " 'column': 'std::vector<int32_t>',\n",
       " 'layer': 'std::vector<int32_t>',\n",
       " 'type': 'std::vector<int32_t>',\n",
       " 'board': 'std::vector<int32_t>',\n",
       " 'height': 'std::vector<float>',\n",
       " 'area': 'std::vector<float>',\n",
       " 'pickupFlag': 'std::vector<bool>',\n",
       " 'pickupFlagTight': 'std::vector<bool>',\n",
       " 'nPE': 'std::vector<float>',\n",
       " 'riseSamples': 'std::vector<int32_t>',\n",
       " 'fallSamples': 'std::vector<int32_t>',\n",
       " 'ipulse': 'std::vector<int32_t>',\n",
       " 'npulses': 'std::vector<int32_t>',\n",
       " 'time': 'std::vector<float>',\n",
       " 'timeFit': 'std::vector<float>',\n",
       " 'time_module_calibrated': 'std::vector<float>',\n",
       " 'timeFit_module_calibrated': 'std::vector<float>',\n",
       " 'duration': 'std::vector<float>',\n",
       " 'delay': 'std::vector<float>',\n",
       " 'max': 'std::vector<float>',\n",
       " 'present': 'std::vector<int64_t>',\n",
       " 'event_trigger_time_tag': 'std::vector<int64_t>',\n",
       " 'event_time': 'std::vector<int64_t>',\n",
       " 'event_time_fromTDC': 'double',\n",
       " 'v_groupTDC_g0': 'std::vector<int64_t>',\n",
       " 'v_groupTDC_g1': 'std::vector<int64_t>',\n",
       " 'v_groupTDC_g2': 'std::vector<int64_t>',\n",
       " 'v_groupTDC_g3': 'std::vector<int64_t>',\n",
       " 'v_groupTDC_g4': 'std::vector<int64_t>',\n",
       " 'v_groupTDC_g5': 'std::vector<int64_t>',\n",
       " 'v_groupTDC_g6': 'std::vector<int64_t>',\n",
       " 'v_groupTDC_g7': 'std::vector<int64_t>',\n",
       " 'tClockCycles': 'uint64_t',\n",
       " 'tTime': 'float',\n",
       " 'tStartTime': 'float',\n",
       " 'tTrigger': 'float',\n",
       " 'tTimeDiff': 'float',\n",
       " 'tMatchingTimeCut': 'float',\n",
       " 'tEvtNum': 'int32_t',\n",
       " 'tRunNum': 'int32_t',\n",
       " 'tTBEvent': 'int32_t',\n",
       " 'totalFileLumi': 'float'}"
      ]
     },
     "execution_count": 35,
     "metadata": {},
     "output_type": "execute_result"
    }
   ],
   "source": [
    "uptree.typenames()"
   ]
  },
  {
   "cell_type": "code",
   "execution_count": null,
   "id": "a88cc523",
   "metadata": {},
   "outputs": [],
   "source": []
  }
 ],
 "metadata": {
  "kernelspec": {
   "display_name": "Python 3 (ipykernel)",
   "language": "python",
   "name": "python3"
  },
  "language_info": {
   "codemirror_mode": {
    "name": "ipython",
    "version": 3
   },
   "file_extension": ".py",
   "mimetype": "text/x-python",
   "name": "python",
   "nbconvert_exporter": "python",
   "pygments_lexer": "ipython3",
   "version": "3.8.10"
  }
 },
 "nbformat": 4,
 "nbformat_minor": 5
}
